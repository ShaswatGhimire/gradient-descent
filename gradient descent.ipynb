{
 "cells": [
  {
   "cell_type": "code",
   "execution_count": 1,
   "metadata": {},
   "outputs": [],
   "source": [
    "#importing all the essential librarires\n",
    "import pandas as pd\n",
    "import numpy as np\n",
    "from sklearn.model_selection import train_test_split\n",
    "from sklearn.preprocessing import LabelEncoder\n",
    "import random\n",
    "from sklearn.metrics import r2_score"
   ]
  },
  {
   "cell_type": "code",
   "execution_count": 2,
   "metadata": {},
   "outputs": [
    {
     "data": {
      "text/html": [
       "<div>\n",
       "<style scoped>\n",
       "    .dataframe tbody tr th:only-of-type {\n",
       "        vertical-align: middle;\n",
       "    }\n",
       "\n",
       "    .dataframe tbody tr th {\n",
       "        vertical-align: top;\n",
       "    }\n",
       "\n",
       "    .dataframe thead th {\n",
       "        text-align: right;\n",
       "    }\n",
       "</style>\n",
       "<table border=\"1\" class=\"dataframe\">\n",
       "  <thead>\n",
       "    <tr style=\"text-align: right;\">\n",
       "      <th></th>\n",
       "      <th>age</th>\n",
       "      <th>sex</th>\n",
       "      <th>bmi</th>\n",
       "      <th>children</th>\n",
       "      <th>smoker</th>\n",
       "      <th>region</th>\n",
       "      <th>charges</th>\n",
       "    </tr>\n",
       "  </thead>\n",
       "  <tbody>\n",
       "    <tr>\n",
       "      <th>0</th>\n",
       "      <td>19</td>\n",
       "      <td>female</td>\n",
       "      <td>27.900</td>\n",
       "      <td>0</td>\n",
       "      <td>yes</td>\n",
       "      <td>southwest</td>\n",
       "      <td>16884.92400</td>\n",
       "    </tr>\n",
       "    <tr>\n",
       "      <th>1</th>\n",
       "      <td>18</td>\n",
       "      <td>male</td>\n",
       "      <td>33.770</td>\n",
       "      <td>1</td>\n",
       "      <td>no</td>\n",
       "      <td>southeast</td>\n",
       "      <td>1725.55230</td>\n",
       "    </tr>\n",
       "    <tr>\n",
       "      <th>2</th>\n",
       "      <td>28</td>\n",
       "      <td>male</td>\n",
       "      <td>33.000</td>\n",
       "      <td>3</td>\n",
       "      <td>no</td>\n",
       "      <td>southeast</td>\n",
       "      <td>4449.46200</td>\n",
       "    </tr>\n",
       "    <tr>\n",
       "      <th>3</th>\n",
       "      <td>33</td>\n",
       "      <td>male</td>\n",
       "      <td>22.705</td>\n",
       "      <td>0</td>\n",
       "      <td>no</td>\n",
       "      <td>northwest</td>\n",
       "      <td>21984.47061</td>\n",
       "    </tr>\n",
       "    <tr>\n",
       "      <th>4</th>\n",
       "      <td>32</td>\n",
       "      <td>male</td>\n",
       "      <td>28.880</td>\n",
       "      <td>0</td>\n",
       "      <td>no</td>\n",
       "      <td>northwest</td>\n",
       "      <td>3866.85520</td>\n",
       "    </tr>\n",
       "  </tbody>\n",
       "</table>\n",
       "</div>"
      ],
      "text/plain": [
       "   age     sex     bmi  children smoker     region      charges\n",
       "0   19  female  27.900         0    yes  southwest  16884.92400\n",
       "1   18    male  33.770         1     no  southeast   1725.55230\n",
       "2   28    male  33.000         3     no  southeast   4449.46200\n",
       "3   33    male  22.705         0     no  northwest  21984.47061\n",
       "4   32    male  28.880         0     no  northwest   3866.85520"
      ]
     },
     "execution_count": 2,
     "metadata": {},
     "output_type": "execute_result"
    }
   ],
   "source": [
    "#loading the dataframe from csv file \n",
    "df = pd.read_csv(\"insurance.csv\")\n",
    "df.head()"
   ]
  },
  {
   "cell_type": "code",
   "execution_count": 3,
   "metadata": {},
   "outputs": [],
   "source": [
    "#preprocesssing in data\n",
    "df[\"sex\" ]= np.where(df[\"sex\"] == \"male\", 1, 0)\n",
    "df[\"smoker\" ]= np.where(df[\"smoker\"] == \"yes\", 1, 0)\n",
    "df[\"bmi\"] = (df[\"bmi\"] - df[\"bmi\"].mean()) / df[\"bmi\"].std()\n",
    "le = LabelEncoder()\n",
    "df[\"age\"] = le.fit_transform(df[\"age\"])\n",
    "df[\"region\"] = le.fit_transform(df[\"region\"])\n"
   ]
  },
  {
   "cell_type": "code",
   "execution_count": 4,
   "metadata": {},
   "outputs": [
    {
     "data": {
      "text/html": [
       "<div>\n",
       "<style scoped>\n",
       "    .dataframe tbody tr th:only-of-type {\n",
       "        vertical-align: middle;\n",
       "    }\n",
       "\n",
       "    .dataframe tbody tr th {\n",
       "        vertical-align: top;\n",
       "    }\n",
       "\n",
       "    .dataframe thead th {\n",
       "        text-align: right;\n",
       "    }\n",
       "</style>\n",
       "<table border=\"1\" class=\"dataframe\">\n",
       "  <thead>\n",
       "    <tr style=\"text-align: right;\">\n",
       "      <th></th>\n",
       "      <th>age</th>\n",
       "      <th>sex</th>\n",
       "      <th>bmi</th>\n",
       "      <th>children</th>\n",
       "      <th>smoker</th>\n",
       "      <th>region</th>\n",
       "      <th>charges</th>\n",
       "    </tr>\n",
       "  </thead>\n",
       "  <tbody>\n",
       "    <tr>\n",
       "      <th>0</th>\n",
       "      <td>1</td>\n",
       "      <td>0</td>\n",
       "      <td>-0.453151</td>\n",
       "      <td>0</td>\n",
       "      <td>1</td>\n",
       "      <td>3</td>\n",
       "      <td>16884.92400</td>\n",
       "    </tr>\n",
       "    <tr>\n",
       "      <th>1</th>\n",
       "      <td>0</td>\n",
       "      <td>1</td>\n",
       "      <td>0.509431</td>\n",
       "      <td>1</td>\n",
       "      <td>0</td>\n",
       "      <td>2</td>\n",
       "      <td>1725.55230</td>\n",
       "    </tr>\n",
       "    <tr>\n",
       "      <th>2</th>\n",
       "      <td>10</td>\n",
       "      <td>1</td>\n",
       "      <td>0.383164</td>\n",
       "      <td>3</td>\n",
       "      <td>0</td>\n",
       "      <td>2</td>\n",
       "      <td>4449.46200</td>\n",
       "    </tr>\n",
       "    <tr>\n",
       "      <th>3</th>\n",
       "      <td>15</td>\n",
       "      <td>1</td>\n",
       "      <td>-1.305043</td>\n",
       "      <td>0</td>\n",
       "      <td>0</td>\n",
       "      <td>1</td>\n",
       "      <td>21984.47061</td>\n",
       "    </tr>\n",
       "    <tr>\n",
       "      <th>4</th>\n",
       "      <td>14</td>\n",
       "      <td>1</td>\n",
       "      <td>-0.292447</td>\n",
       "      <td>0</td>\n",
       "      <td>0</td>\n",
       "      <td>1</td>\n",
       "      <td>3866.85520</td>\n",
       "    </tr>\n",
       "  </tbody>\n",
       "</table>\n",
       "</div>"
      ],
      "text/plain": [
       "   age  sex       bmi  children  smoker  region      charges\n",
       "0    1    0 -0.453151         0       1       3  16884.92400\n",
       "1    0    1  0.509431         1       0       2   1725.55230\n",
       "2   10    1  0.383164         3       0       2   4449.46200\n",
       "3   15    1 -1.305043         0       0       1  21984.47061\n",
       "4   14    1 -0.292447         0       0       1   3866.85520"
      ]
     },
     "execution_count": 4,
     "metadata": {},
     "output_type": "execute_result"
    }
   ],
   "source": [
    "df.head()"
   ]
  },
  {
   "cell_type": "code",
   "execution_count": 5,
   "metadata": {},
   "outputs": [],
   "source": [
    "#standardizing the data\n",
    "X = df[[\"age\", \"sex\", \"bmi\", \"children\", \"region\", \"smoker\"]]\n",
    "X = X.apply(lambda rec:(rec-rec.mean())/rec.std(),axis=0)\n",
    "X = np.asarray(X)\n",
    "y = np.asarray((df[\"charges\"] - df[\"charges\"].mean() ) / df[\"charges\"].std())\n",
    "y = y.reshape(-1,1)\n",
    "\n",
    "#splitting the data into train and test dataset\n",
    "X_train, X_test, y_train, y_test = train_test_split(X, y, test_size= 0.2)\n"
   ]
  },
  {
   "cell_type": "code",
   "execution_count": 6,
   "metadata": {},
   "outputs": [],
   "source": [
    "#weights and bias initialization \n",
    "w = np.random.rand(6,1)\n",
    "b = random.random()\n",
    "learning_rate = 0.01\n",
    "num_of_iterations = 1000"
   ]
  },
  {
   "cell_type": "code",
   "execution_count": 7,
   "metadata": {},
   "outputs": [],
   "source": [
    "#implementation of function for gradient descent\n",
    "def GradientDescent(X_train, y_train, w, b, learning_rate):\n",
    "    \"\"\"performs on iteration of gradient descent from calculating the loss to updating the weights\n",
    "\n",
    "    Args:\n",
    "        X_train (_type_): numpy array containing training data\n",
    "        y_train (_type_): one dimensional numpy array of training outputs\n",
    "        w (_type_): updated weights - numpy array\n",
    "        b (_type_): bias - integer\n",
    "        learning_rate (_type_): a constant; to control the rate of updating the weights \n",
    "\n",
    "    Returns:\n",
    "        w: updated weights\n",
    "        b: updated bias\n",
    "        loss: new loss calculated \n",
    "    \"\"\"\n",
    "    y_pred = np.dot(X_train, w) + b\n",
    "    y_pred = 1 / (1 + np.exp(-y_pred))\n",
    "    loss = (1/2) * np.sum(np.dot((y_train - y_pred).T, (y_train - y_pred))) / len(y_train -  y_pred)\n",
    "    db=(np.sum(y_pred - y_train))/len(y_train)\n",
    "    dw=(np.dot(X_train.T,(y_pred - y_train)))/len(y_train)\n",
    "    w = w - learning_rate * dw\n",
    "    b = b - learning_rate * db\n",
    "    return w, b, loss "
   ]
  },
  {
   "cell_type": "code",
   "execution_count": 8,
   "metadata": {},
   "outputs": [
    {
     "name": "stdout",
     "output_type": "stream",
     "text": [
      "loss after 0 iteration is 0.5961950850710838\n",
      "6\n",
      "loss is 0.5878200297471398\n",
      "gradients are [[1.00736253]\n",
      " [0.90521317]\n",
      " [0.86217691]\n",
      " [0.33089208]\n",
      " [0.12726155]\n",
      " [0.21518015]]\n",
      "bias is 0.39301762808122953\n"
     ]
    }
   ],
   "source": [
    "#iterate the gradient descent function for a number of times and print out the essential data items \n",
    "prev_loss = 0\n",
    "j = 0\n",
    "for i in range(num_of_iterations): \n",
    "    w, b, new_loss = GradientDescent(X_train, y_train, w, b, learning_rate)\n",
    "    \n",
    "    if (new_loss - prev_loss) < 0.0001:\n",
    "        j = j+1\n",
    "    \n",
    "    prev_loss = new_loss\n",
    "\n",
    "    if j > 5:\n",
    "        break\n",
    "\n",
    "    if i % 100 == 0:\n",
    "        print(f\"loss after {i} iteration is {new_loss}\")\n",
    "\n",
    "print(i)\n",
    "print(f\"loss is {new_loss}\")\n",
    "print(f\"gradients are {w}\")\n",
    "print(f\"bias is {b}\")\n",
    "    "
   ]
  },
  {
   "cell_type": "code",
   "execution_count": 9,
   "metadata": {},
   "outputs": [
    {
     "name": "stdout",
     "output_type": "stream",
     "text": [
      "256.38882036873287\n"
     ]
    }
   ],
   "source": [
    "#calculating the cost on test data using the weights and bias trained on trainig dataset \n",
    "y_test_pred = 1 / (1 + np.exp(np.dot(X_test, w) + b))\n",
    "y_res = y_test - y_test_pred\n",
    "\n",
    "test_cost =(1/2) * np.sum(np.dot(y_res.T, y_res)**2)/ len(y_res)\n",
    "print(test_cost)"
   ]
  },
  {
   "cell_type": "code",
   "execution_count": 10,
   "metadata": {},
   "outputs": [
    {
     "data": {
      "text/plain": [
       "-0.4792902529988867"
      ]
     },
     "execution_count": 10,
     "metadata": {},
     "output_type": "execute_result"
    }
   ],
   "source": [
    "#calculating the r2 score on given dataset . . . its a metric for regression\n",
    "r2_score(y_test, y_test_pred)"
   ]
  },
  {
   "cell_type": "code",
   "execution_count": null,
   "metadata": {},
   "outputs": [],
   "source": []
  },
  {
   "cell_type": "code",
   "execution_count": null,
   "metadata": {},
   "outputs": [],
   "source": []
  }
 ],
 "metadata": {
  "kernelspec": {
   "display_name": "Python 3",
   "language": "python",
   "name": "python3"
  },
  "language_info": {
   "codemirror_mode": {
    "name": "ipython",
    "version": 3
   },
   "file_extension": ".py",
   "mimetype": "text/x-python",
   "name": "python",
   "nbconvert_exporter": "python",
   "pygments_lexer": "ipython3",
   "version": "3.9.4"
  },
  "orig_nbformat": 4
 },
 "nbformat": 4,
 "nbformat_minor": 2
}
